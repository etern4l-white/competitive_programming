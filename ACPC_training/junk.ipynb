{
 "cells": [
  {
   "cell_type": "code",
   "execution_count": 7,
   "metadata": {},
   "outputs": [
    {
     "name": "stdout",
     "output_type": "stream",
     "text": [
      "5.0\n",
      "243.0 243\n"
     ]
    },
    {
     "data": {
      "text/plain": [
       "True"
      ]
     },
     "execution_count": 7,
     "metadata": {},
     "output_type": "execute_result"
    }
   ],
   "source": [
    "\"\"\" Check if n is a power of m\n",
    "\"\"\"\n",
    "import math\n",
    "def is_power_of_m(n, m):\n",
    "    if n >=0:\n",
    "        # Debugging\n",
    "        print(math.log10(n)/math.log10(m))\n",
    "        print(m**(math.log10(n)/math.log10(m)), m**int(math.log10(n)/math.log10(m)))\n",
    "        return n!= 0 and (m**(math.log10(n)/math.log10(m)) == m**int(math.log10(n)/math.log10(m)))\n",
    "    else:\n",
    "        n = -n\n",
    "        return m**(math.log10(n)/math.log10(m)) == m**int(math.log10(n)/math.log10(m)) and int(math.log10(n)/math.log10(m))%2==1\n",
    "is_power_of_m(243, 3)\n",
    "\n",
    "def is_bit_on(number, i):\n",
    "    return (number & (1<<i)) != 0\n",
    "\n",
    "def count_bits(number):\n",
    "    \n",
    "\n",
    "for i in range(0, 99999):\n",
    "    \n"
   ]
  }
 ],
 "metadata": {
  "kernelspec": {
   "display_name": "Python 3",
   "language": "python",
   "name": "python3"
  },
  "language_info": {
   "codemirror_mode": {
    "name": "ipython",
    "version": 3
   },
   "file_extension": ".py",
   "mimetype": "text/x-python",
   "name": "python",
   "nbconvert_exporter": "python",
   "pygments_lexer": "ipython3",
   "version": "3.11.2"
  },
  "orig_nbformat": 4
 },
 "nbformat": 4,
 "nbformat_minor": 2
}
