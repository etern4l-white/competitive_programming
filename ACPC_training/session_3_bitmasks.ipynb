{
 "cells": [
  {
   "cell_type": "code",
   "execution_count": 8,
   "metadata": {},
   "outputs": [
    {
     "name": "stdout",
     "output_type": "stream",
     "text": [
      "00000000000000000000000000000101\n",
      "11111111111111111111111111111011\n"
     ]
    }
   ],
   "source": [
    "def is_bit_on(x, i):\n",
    "    return (x & (1<<i)) != 0\n",
    "\n",
    "def turn_on_bit(x, i):\n",
    "    return (x | (1<<i))\n",
    "\n",
    "def turn_off_bit(x, i):\n",
    "    return (x & ~(1<<i))\n",
    "\n",
    "def invert_bit(x, i):\n",
    "    return (x ^ (1<<i))\n",
    "\n",
    "def turn_off(x, i):\n",
    "    return (x & ~(1<<i))\n",
    "\n",
    "def print_representation(x):\n",
    "    for i in range(31, -1, -1):\n",
    "        print(1 if x & (1<<i) != 0 else 0, end=\"\")\n",
    "    print()\n",
    "# print_representation(5)\n",
    "print_representation(5)\n",
    "print_representation(-5)\n"
   ]
  },
  {
   "cell_type": "code",
   "execution_count": 9,
   "metadata": {},
   "outputs": [
    {
     "data": {
      "text/plain": [
       "'\\nIterate i from 0 to 2**n - 1, \\n    Iterate j from 0 to n:\\n        if i[j] == 1: include the element\\n'"
      ]
     },
     "execution_count": 9,
     "metadata": {},
     "output_type": "execute_result"
    }
   ],
   "source": [
    "# We can generate subsets using bit masks.\n",
    "\"\"\"\n",
    "Iterate i from 0 to 2**n - 1, \n",
    "    Iterate j from 0 to n:\n",
    "        if i[j] == 1: include the element\n",
    "\"\"\"\n",
    "\n",
    "def gen_ss(original_set, n):\n",
    "    \n",
    "    pass\n",
    "def different_sets(x, y):\n",
    "    return x&~y\n",
    "\n"
   ]
  },
  {
   "cell_type": "code",
   "execution_count": 1,
   "metadata": {},
   "outputs": [
    {
     "name": "stdout",
     "output_type": "stream",
     "text": [
      "3 2\n",
      "2\n",
      "3 2 7\n",
      "7\n",
      "3\n"
     ]
    },
    {
     "ename": "IndexError",
     "evalue": "list index out of range",
     "output_type": "error",
     "traceback": [
      "\u001b[0;31m---------------------------------------------------------------------------\u001b[0m",
      "\u001b[0;31mIndexError\u001b[0m                                Traceback (most recent call last)",
      "\u001b[1;32m/home/unknown/important/competitive_programming/ACPC_training/session_3_bitmasks.ipynb Cell 3\u001b[0m line \u001b[0;36m1\n\u001b[1;32m      <a href='vscode-notebook-cell:/home/unknown/important/competitive_programming/ACPC_training/session_3_bitmasks.ipynb#W2sZmlsZQ%3D%3D?line=8'>9</a>\u001b[0m                 subset\u001b[39m.\u001b[39mappend(original_set[bit])\n\u001b[1;32m     <a href='vscode-notebook-cell:/home/unknown/important/competitive_programming/ACPC_training/session_3_bitmasks.ipynb#W2sZmlsZQ%3D%3D?line=9'>10</a>\u001b[0m         \u001b[39mprint\u001b[39m(\u001b[39m'\u001b[39m\u001b[39m \u001b[39m\u001b[39m'\u001b[39m\u001b[39m.\u001b[39mjoin([\u001b[39mstr\u001b[39m(i) \u001b[39mfor\u001b[39;00m i \u001b[39min\u001b[39;00m subset]))\n\u001b[0;32m---> <a href='vscode-notebook-cell:/home/unknown/important/competitive_programming/ACPC_training/session_3_bitmasks.ipynb#W2sZmlsZQ%3D%3D?line=10'>11</a>\u001b[0m get_ss([\u001b[39m3\u001b[39;49m, \u001b[39m2\u001b[39;49m, \u001b[39m7\u001b[39;49m, \u001b[39m4\u001b[39;49m, \u001b[39m1\u001b[39;49m])\n",
      "\u001b[1;32m/home/unknown/important/competitive_programming/ACPC_training/session_3_bitmasks.ipynb Cell 3\u001b[0m line \u001b[0;36m8\n\u001b[1;32m      <a href='vscode-notebook-cell:/home/unknown/important/competitive_programming/ACPC_training/session_3_bitmasks.ipynb#W2sZmlsZQ%3D%3D?line=5'>6</a>\u001b[0m subset \u001b[39m=\u001b[39m []\n\u001b[1;32m      <a href='vscode-notebook-cell:/home/unknown/important/competitive_programming/ACPC_training/session_3_bitmasks.ipynb#W2sZmlsZQ%3D%3D?line=6'>7</a>\u001b[0m \u001b[39mfor\u001b[39;00m bit \u001b[39min\u001b[39;00m \u001b[39mrange\u001b[39m(n):\n\u001b[0;32m----> <a href='vscode-notebook-cell:/home/unknown/important/competitive_programming/ACPC_training/session_3_bitmasks.ipynb#W2sZmlsZQ%3D%3D?line=7'>8</a>\u001b[0m     \u001b[39mif\u001b[39;00m original_set[mask] \u001b[39m&\u001b[39m (\u001b[39m1\u001b[39m\u001b[39m<<\u001b[39mbit) \u001b[39m!=\u001b[39m \u001b[39m0\u001b[39m:\n\u001b[1;32m      <a href='vscode-notebook-cell:/home/unknown/important/competitive_programming/ACPC_training/session_3_bitmasks.ipynb#W2sZmlsZQ%3D%3D?line=8'>9</a>\u001b[0m         subset\u001b[39m.\u001b[39mappend(original_set[bit])\n\u001b[1;32m     <a href='vscode-notebook-cell:/home/unknown/important/competitive_programming/ACPC_training/session_3_bitmasks.ipynb#W2sZmlsZQ%3D%3D?line=9'>10</a>\u001b[0m \u001b[39mprint\u001b[39m(\u001b[39m'\u001b[39m\u001b[39m \u001b[39m\u001b[39m'\u001b[39m\u001b[39m.\u001b[39mjoin([\u001b[39mstr\u001b[39m(i) \u001b[39mfor\u001b[39;00m i \u001b[39min\u001b[39;00m subset]))\n",
      "\u001b[0;31mIndexError\u001b[0m: list index out of range"
     ]
    }
   ],
   "source": [
    "def get_ss(original_set):\n",
    "    n = len(original_set)\n",
    "    sets = []\n",
    "    masks = [i for i in range(0, 1<<n)]\n",
    "    for mask in masks:\n",
    "        subset = []\n",
    "        for bit in range(n):\n",
    "            if original_set[mask] & (1<<bit) != 0:\n",
    "                subset.append(original_set[bit])\n",
    "        print(' '.join([str(i) for i in subset]))\n",
    "get_ss([3, 2, 7, 4, 1])\n",
    "    "
   ]
  }
 ],
 "metadata": {
  "kernelspec": {
   "display_name": "Python 3",
   "language": "python",
   "name": "python3"
  },
  "language_info": {
   "codemirror_mode": {
    "name": "ipython",
    "version": 3
   },
   "file_extension": ".py",
   "mimetype": "text/x-python",
   "name": "python",
   "nbconvert_exporter": "python",
   "pygments_lexer": "ipython3",
   "version": "3.11.2"
  },
  "orig_nbformat": 4
 },
 "nbformat": 4,
 "nbformat_minor": 2
}
