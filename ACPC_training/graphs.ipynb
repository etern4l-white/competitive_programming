{
 "cells": [
  {
   "cell_type": "code",
   "execution_count": null,
   "metadata": {},
   "outputs": [],
   "source": [
    "sample_input = \"\"\"########\n",
    "#..#...#\n",
    "####.#.#\n",
    "#..#...#\n",
    "########\"\"\"\n",
    "n, m = [int(i) for i in input().split()]\n",
    "arr = [ [i for i in j] for j in input().split('\\n') ]\n"
   ]
  }
 ],
 "metadata": {
  "language_info": {
   "name": "python"
  },
  "orig_nbformat": 4
 },
 "nbformat": 4,
 "nbformat_minor": 2
}
