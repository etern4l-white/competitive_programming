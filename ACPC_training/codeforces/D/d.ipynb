{
 "cells": [
  {
   "cell_type": "code",
   "execution_count": 6,
   "metadata": {},
   "outputs": [
    {
     "name": "stdout",
     "output_type": "stream",
     "text": [
      "2\n"
     ]
    }
   ],
   "source": [
    "n, l, r, x = [int(i) for i in input().split()]\n",
    "c = [int(i) for i in input().split()]\n",
    "\n",
    "def is_bit_on(i, j):\n",
    "    return (i & (1<<j)) != 0\n",
    "\n",
    "lenn = len(c)\n",
    "ways = 0\n",
    "for i in range(2**lenn):\n",
    "    s = []\n",
    "    for j in range(lenn):\n",
    "        if is_bit_on(i, j):\n",
    "            s.append(c[j])\n",
    "    if s == []:continue\n",
    "    minn = min(s)\n",
    "    maxx = max(s)\n",
    "    ss = sum(s)\n",
    "    if maxx - minn >= x and ss >= l and ss <= r:\n",
    "        ways+=1\n",
    "print(ways)\n",
    "\n",
    "    \n",
    "\n"
   ]
  }
 ],
 "metadata": {
  "kernelspec": {
   "display_name": "Python 3",
   "language": "python",
   "name": "python3"
  },
  "language_info": {
   "codemirror_mode": {
    "name": "ipython",
    "version": 3
   },
   "file_extension": ".py",
   "mimetype": "text/x-python",
   "name": "python",
   "nbconvert_exporter": "python",
   "pygments_lexer": "ipython3",
   "version": "3.11.2"
  },
  "orig_nbformat": 4
 },
 "nbformat": 4,
 "nbformat_minor": 2
}
