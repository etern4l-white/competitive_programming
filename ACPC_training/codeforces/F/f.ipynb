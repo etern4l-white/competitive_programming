{
 "cells": [
  {
   "cell_type": "code",
   "execution_count": 26,
   "metadata": {},
   "outputs": [
    {
     "name": "stdout",
     "output_type": "stream",
     "text": [
      "-1\n"
     ]
    }
   ],
   "source": [
    "n = int(input())\n",
    "rec = input().replace(\" \", \"\")\n",
    "nums = []\n",
    "ops = []\n",
    "for i in rec:\n",
    "    if i == \"+\":\n",
    "        ops.append(1)\n",
    "    elif i == \"-\":\n",
    "        ops.append(0)\n",
    "    else:\n",
    "        nums.append(int(i))\n",
    "def is_bit_on(i, j):\n",
    "    return (i & (1<<j)) != 0\n",
    "\n",
    "s = nums[0]\n",
    "nums = nums[1:]\n",
    "minn = n-1\n",
    "for i in range(2**(n-1)):\n",
    "    arr = []\n",
    "    ss = 0\n",
    "    \n",
    "    for j in range(n-1):\n",
    "        if is_bit_on(i, j):\n",
    "            arr.append(1)\n",
    "            ss+=nums[j]\n",
    "        else:\n",
    "            arr.append(0)\n",
    "            ss-=nums[j]\n",
    "    if ss+s == 0:\n",
    "        diff = 0\n",
    "        for x in range(n-1):\n",
    "            if arr[x] != ops[x]:\n",
    "                diff+=1\n",
    "        if diff <= minn:\n",
    "            minn = diff\n",
    "if minn == n-1:\n",
    "    print(-1)\n",
    "else:\n",
    "    print(minn)"
   ]
  }
 ],
 "metadata": {
  "kernelspec": {
   "display_name": "Python 3",
   "language": "python",
   "name": "python3"
  },
  "language_info": {
   "codemirror_mode": {
    "name": "ipython",
    "version": 3
   },
   "file_extension": ".py",
   "mimetype": "text/x-python",
   "name": "python",
   "nbconvert_exporter": "python",
   "pygments_lexer": "ipython3",
   "version": "3.11.2"
  },
  "orig_nbformat": 4
 },
 "nbformat": 4,
 "nbformat_minor": 2
}
