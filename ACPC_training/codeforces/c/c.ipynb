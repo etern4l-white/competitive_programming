{
 "cells": [
  {
   "cell_type": "code",
   "execution_count": 5,
   "metadata": {},
   "outputs": [
    {
     "name": "stdout",
     "output_type": "stream",
     "text": [
      "0.000000000000\n"
     ]
    }
   ],
   "source": [
    "correct_sum = sum([1 if i == '+' else -1 for i in input() ])\n",
    "rec = input()\n",
    "unknown = [i for i in rec if i == '?']\n",
    "n = len(unknown)\n",
    "sums = 0\n",
    "def gen(l, cur_lvl, cur_sum):\n",
    "    global sums\n",
    "    cur_sum+=l\n",
    "    if cur_lvl == n:\n",
    "        if cur_sum == correct_sum:\n",
    "            sums+=1\n",
    "        return\n",
    "    gen(1, cur_lvl+1, cur_sum)\n",
    "    gen(-1, cur_lvl+1, cur_sum)\n",
    "if n == 0:\n",
    "    print(f\"%0.12f\" % 1)\n",
    "else:\n",
    "    gen(0, 0, 0)\n",
    "    print(f\"%0.12f\" % (sums/(2**n)))\n"
   ]
  },
  {
   "cell_type": "code",
   "execution_count": 4,
   "metadata": {},
   "outputs": [
    {
     "name": "stdout",
     "output_type": "stream",
     "text": [
      "0\n",
      "--\n",
      "0.250000000000\n"
     ]
    }
   ],
   "source": [
    "correct_sum = sum([1 if i == '+' else -1 for i in input() ])\n",
    "print(correct_sum)\n",
    "rec = input()\n",
    "unknown = [i for i in rec if i == '?']\n",
    "good_sum = sum([1 if i == '+' else -1 for i in rec])\n",
    "n = len(unknown)\n",
    "sums = 0\n",
    "def is_bit_on(x, i):\n",
    "    return (x & (1<<i)) != 0\n",
    "\n",
    "for i in range(0, 2**n):\n",
    "    curr_sum = 0\n",
    "    for j in range(n):\n",
    "        curr_sum+= 1 if is_bit_on(i, j) else -1\n",
    "\n",
    "    if curr_sum == -(correct_sum - good_sum):\n",
    "        sums+=1\n",
    "        s = []\n",
    "        for j in range(n):\n",
    "            if is_bit_on(i, j):\n",
    "                s.append(\"+\")\n",
    "            else:\n",
    "                s.append('-')\n",
    "        print(''.join(s))\n",
    "if n == 0:\n",
    "    print(f\"%0.12f\" % 1)\n",
    "else:\n",
    "    print(f\"%0.12f\" % (sums/(2**n)))\n",
    "    "
   ]
  },
  {
   "cell_type": "code",
   "execution_count": 23,
   "metadata": {},
   "outputs": [
    {
     "name": "stdout",
     "output_type": "stream",
     "text": [
      "0.500000000000\n"
     ]
    }
   ],
   "source": [
    "def is_bit_on(x, i):\n",
    "    return (x & i>>1) != 0\n",
    "correct_sum = sum([1 if i == '+' else -1 for i in input()])\n",
    "rec = input()\n",
    "unknown = rec.count(\"?\")\n",
    "rest_sum = rec.count('+') - rec.count('-')\n",
    "needed_sum = (correct_sum - rest_sum)\n",
    "sums = 0\n",
    "for i in range(2**unknown):\n",
    "    curr_sum = 0\n",
    "    for j in range(unknown):\n",
    "        curr_sum +=1 if is_bit_on(i, j) else -1\n",
    "    if curr_sum == needed_sum:\n",
    "        sums+=1\n",
    "if unknown == 0:\n",
    "    print(f\"%0.12f\" % 1)\n",
    "else:\n",
    "    print(f\"%0.12f\" % (sums/(2**n)))\n"
   ]
  },
  {
   "cell_type": "code",
   "execution_count": 5,
   "metadata": {},
   "outputs": [
    {
     "data": {
      "text/plain": [
       "0"
      ]
     },
     "execution_count": 5,
     "metadata": {},
     "output_type": "execute_result"
    }
   ],
   "source": [
    "12%3"
   ]
  }
 ],
 "metadata": {
  "kernelspec": {
   "display_name": "Python 3",
   "language": "python",
   "name": "python3"
  },
  "language_info": {
   "codemirror_mode": {
    "name": "ipython",
    "version": 3
   },
   "file_extension": ".py",
   "mimetype": "text/x-python",
   "name": "python",
   "nbconvert_exporter": "python",
   "pygments_lexer": "ipython3",
   "version": "3.11.2"
  },
  "orig_nbformat": 4
 },
 "nbformat": 4,
 "nbformat_minor": 2
}
