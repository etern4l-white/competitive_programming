{
 "cells": [
  {
   "cell_type": "code",
   "execution_count": 4,
   "metadata": {},
   "outputs": [
    {
     "name": "stdout",
     "output_type": "stream",
     "text": [
      "[-7, -4, -3, -2, -1]\n",
      "5\n"
     ]
    }
   ],
   "source": [
    "input()\n",
    "arr = [int(i) for i in input().split()]\n",
    "res = 0\n",
    "sums = []\n",
    "for i in arr:\n",
    "    min = 2**32\n",
    "    s = i\n",
    "    l = [i]\n",
    "    for j in arr:\n",
    "        if i !=arr:\n",
    "            l.append(j)\n",
    "    sums.append(sum(arr) - sum(l))\n",
    "print(sorted(sums))\n",
    "minn = 2**32\n",
    "for i in range(len(arr)-1):\n",
    "    r = arr[i+1]-arr[i]\n",
    "    if r < minn and r >=1:\n",
    "        minn = r\n",
    "print(minn)\n"
   ]
  },
  {
   "cell_type": "code",
   "execution_count": 11,
   "metadata": {},
   "outputs": [
    {
     "name": "stdout",
     "output_type": "stream",
     "text": [
      "1\n"
     ]
    }
   ],
   "source": [
    "org = []\n",
    "input()\n",
    "arr = [int(i) for i in input().split()]\n",
    "def gen_ss(index, sum, org):\n",
    "    if index == len(arr) - 1:\n",
    "        # print(sum)\n",
    "        org.append(sum)\n",
    "        return\n",
    "    gen_ss(index+1, sum + arr[index], org)\n",
    "    gen_ss(index+1, sum + arr[index+1], org)\n",
    "gen_ss(0, 0, org)\n",
    "# print(sorted(org))\n",
    "org = sorted(org)\n",
    "minn = 2**32\n",
    "for i in range(len(org)-1):\n",
    "    r = org[i+1]-org[i]\n",
    "    if r < minn and r >=1:\n",
    "        minn = r\n",
    "    # print(r)\n",
    "print(minn)"
   ]
  },
  {
   "cell_type": "code",
   "execution_count": 2,
   "metadata": {},
   "outputs": [],
   "source": [
    "n = int(input())\n",
    "s = 0\n",
    "f = 0\n",
    "org = []\n",
    "max = 999999999\n",
    "def gen_luck_numbers(x, s, f):\n",
    "    # print(x)\n",
    "    if x >=999999999:return\n",
    "    if s == f and s != 0:\n",
    "        print(x)\n",
    "    gen_luck_numbers(x*10 + 7, s+7, f)\n",
    "    gen_luck_numbers(x*10 + 4, s, f+4)\n",
    "gen_luck_numbers(0, s, f)\n"
   ]
  },
  {
   "cell_type": "code",
   "execution_count": 44,
   "metadata": {},
   "outputs": [
    {
     "name": "stdout",
     "output_type": "stream",
     "text": [
      "0.000000000000\n"
     ]
    }
   ],
   "source": [
    "correct_sum = sum([1 if i == '+' else -1 for i in input() ])\n",
    "rec = input()\n",
    "unknown = [i for i in rec if i == '?']\n",
    "n = len(unknown)\n",
    "sums = 0\n",
    "def gen(l, cur_lvl, cur_sum):\n",
    "    global sums\n",
    "    cur_sum+=l\n",
    "    if cur_lvl == n:\n",
    "        if cur_sum == correct_sum:\n",
    "            sums+=1\n",
    "        return\n",
    "    gen(1, cur_lvl+1, cur_sum)\n",
    "    gen(-1, cur_lvl+1, cur_sum)\n",
    "if n == 0:\n",
    "    print(f\"%0.12f\" % 1)\n",
    "else:\n",
    "    gen(0, 0, 0)\n",
    "    print(f\"%0.12f\" % (sums/(2**n)))\n"
   ]
  },
  {
   "cell_type": "code",
   "execution_count": 48,
   "metadata": {},
   "outputs": [
    {
     "name": "stdout",
     "output_type": "stream",
     "text": [
      "[4, 447, 474, 777, 44477, 44747, 44774, 47447, 47474, 47744, 74777, 77477, 77747, 77774, 4444777, 4447477, 4447747, 4447774, 4474477, 4474747, 4474774, 4477447, 4477474, 4477744, 4744477, 4744747, 4744774, 4747447, 4747474, 4747744, 4774447, 4774474, 4774744, 4777444, 7447777, 7474777, 7477477, 7477747, 7477774, 7744777, 7747477, 7747747, 7747774, 7774477, 7774747, 7774774, 7777447, 7777474, 7777744, 444447777, 444474777, 444477477, 444477747, 444477774, 444744777, 444747477, 444747747, 444747774, 444774477, 444774747, 444774774, 444777447, 444777474, 444777744, 447444777, 447447477, 447447747, 447447774, 447474477, 447474747, 447474774, 447477447, 447477474, 447477744, 447744477, 447744747, 447744774, 447747447, 447747474, 447747744, 447774447, 447774474, 447774744, 447777444, 474444777, 474447477, 474447747, 474447774, 474474477, 474474747, 474474774, 474477447, 474477474, 474477744, 474744477, 474744747, 474744774, 474747447, 474747474, 474747744, 474774447, 474774474, 474774744, 474777444, 477444477, 477444747, 477444774, 477447447, 477447474, 477447744, 477474447, 477474474, 477474744, 477477444, 477744447, 477744474, 477744744, 477747444, 477774444, 744477777, 744747777, 744774777, 744777477, 744777747, 744777774, 747447777, 747474777, 747477477, 747477747, 747477774, 747744777, 747747477, 747747747, 747747774, 747774477, 747774747, 747774774, 747777447, 747777474, 747777744, 774447777, 774474777, 774477477, 774477747, 774477774, 774744777, 774747477, 774747747, 774747774, 774774477, 774774747, 774774774, 774777447, 774777474, 774777744, 777444777, 777447477, 777447747, 777447774, 777474477, 777474747, 777474774, 777477447, 777477474, 777477744, 777744477, 777744747, 777744774, 777747447, 777747474, 777747744, 777774447, 777774474, 777774744, 777777444]\n"
     ]
    }
   ],
   "source": [
    "number = int(input())\n",
    "sol = 0\n",
    "org = []\n",
    "def gen_lucky_number(n, s, f, curr_step):\n",
    "    if curr_step == 10:return\n",
    "    if s == f:\n",
    "        org.append(n)\n",
    "    gen_lucky_number(n*10 + 4, s, f+1, curr_step+1)\n",
    "    gen_lucky_number(n*10 + 7, s+1, f, curr_step+1)\n",
    "gen_lucky_number(4, 1, 1, 1, )\n",
    "gen_lucky_number(44, 0, 2, 1, )\n",
    "gen_lucky_number(77, 2, 0, 1, )\n",
    "gen_lucky_number(74, 1, 1, 1, )\n",
    "org = sorted(org)\n",
    "print(org)"
   ]
  },
  {
   "cell_type": "code",
   "execution_count": 20,
   "metadata": {},
   "outputs": [
    {
     "name": "stdout",
     "output_type": "stream",
     "text": [
      "493827164395061728\n"
     ]
    }
   ],
   "source": [
    "start, finish = [int(i) for i in input().split()]\n",
    "summ = 0\n",
    "org = []\n",
    "lucky_index = 0\n",
    "def gen(n, org, cur_step):\n",
    "    if n != 0: org.append(n)\n",
    "    if cur_step == 10:\n",
    "        return\n",
    "    gen(n*10 + 4, org, cur_step+1)\n",
    "    gen(n*10 + 7, org, cur_step+1)\n",
    "gen(0, org, 0)\n",
    "org = sorted(org)\n",
    "for i in range(start, finish+1):\n",
    "    while True:\n",
    "        if org[lucky_index] >= i:\n",
    "            summ+=org[lucky_index]\n",
    "            break\n",
    "        else:\n",
    "            lucky_index+=1\n",
    "print(summ)"
   ]
  }
 ],
 "metadata": {
  "kernelspec": {
   "display_name": "Python 3",
   "language": "python",
   "name": "python3"
  },
  "language_info": {
   "codemirror_mode": {
    "name": "ipython",
    "version": 3
   },
   "file_extension": ".py",
   "mimetype": "text/x-python",
   "name": "python",
   "nbconvert_exporter": "python",
   "pygments_lexer": "ipython3",
   "version": "3.11.2"
  },
  "orig_nbformat": 4
 },
 "nbformat": 4,
 "nbformat_minor": 2
}
