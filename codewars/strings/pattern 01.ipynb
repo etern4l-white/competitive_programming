{
 "cells": [
  {
   "cell_type": "code",
   "execution_count": 6,
   "metadata": {},
   "outputs": [
    {
     "name": "stdout",
     "output_type": "stream",
     "text": [
      "    *\n",
      "   ***\n",
      "  *****\n",
      "   ***\n",
      "  *****\n",
      " *******\n",
      "  *****\n",
      " *******\n",
      "*********\n"
     ]
    }
   ],
   "source": [
    "def christmas_tree(height):\n",
    "    s = \"\"\n",
    "    h = height//3\n",
    "    start = 1\n",
    "    original_space = h+1\n",
    "    for i in range(h):\n",
    "        added_stars = i*2+1\n",
    "        for j in range(3):\n",
    "            s+=' '*(original_space-j - i) + \"*\"*added_stars + '\\r\\n' \n",
    "            added_stars+=2\n",
    "    if s != \"\":\n",
    "        s+=' '*(original_space-1) + \"###\"\n",
    "    return s\n",
    "christmas_tree(9)"
   ]
  },
  {
   "cell_type": "code",
   "execution_count": 35,
   "metadata": {},
   "outputs": [
    {
     "name": "stdout",
     "output_type": "stream",
     "text": [
      "     *\n",
      "    @ o\n",
      "   * @ o\n",
      "  * @ o *\n",
      " @ o * @ o\n",
      "* @ o * @ o\n",
      "     |\n",
      "     |\n"
     ]
    }
   ],
   "source": [
    "def custom_christmas_tree(chars, n):\n",
    "    s = \"\"\n",
    "    count = 0\n",
    "    original_space = n-1\n",
    "    curr_chars = 1\n",
    "    for i in range(n):\n",
    "        s+= ' '*(original_space-i)\n",
    "        for j in range(curr_chars):\n",
    "            if j == 0:s+=chars[count%len(chars)]\n",
    "            else:s+=' ' + chars[count%len(chars)]\n",
    "                \n",
    "            \n",
    "            count+=1\n",
    "        curr_chars+=1\n",
    "        s+='\\n'\n",
    "    for h in range(n//3):\n",
    "        if h == 0:\n",
    "            s+=' '*(original_space) + \"|\"\n",
    "        else:\n",
    "            s+='\\n' + ' '*(original_space) + \"|\"\n",
    "            \n",
    "    return s\n",
    "print(custom_christmas_tree(\"*@o\",6))"
   ]
  },
  {
   "cell_type": "code",
   "execution_count": 21,
   "metadata": {},
   "outputs": [
    {
     "name": "stdout",
     "output_type": "stream",
     "text": [
      "   *\n",
      "  @ o\n",
      " * @ o\n",
      "   |\n",
      "\n",
      "  *\n",
      " @ o\n",
      "* @ o\n",
      "  |\n"
     ]
    }
   ],
   "source": [
    "print('  *\\n @ o\\n* @ o\\n  |\\n')\n",
    "print('  *\\n @ o\\n* @ o\\n  |')"
   ]
  }
 ],
 "metadata": {
  "kernelspec": {
   "display_name": "Python 3",
   "language": "python",
   "name": "python3"
  },
  "language_info": {
   "codemirror_mode": {
    "name": "ipython",
    "version": 3
   },
   "file_extension": ".py",
   "mimetype": "text/x-python",
   "name": "python",
   "nbconvert_exporter": "python",
   "pygments_lexer": "ipython3",
   "version": "3.11.2"
  },
  "orig_nbformat": 4
 },
 "nbformat": 4,
 "nbformat_minor": 2
}
