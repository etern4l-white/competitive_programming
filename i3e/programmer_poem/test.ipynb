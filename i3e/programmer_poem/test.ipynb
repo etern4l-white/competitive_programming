{
 "cells": [
  {
   "cell_type": "code",
   "execution_count": 18,
   "metadata": {},
   "outputs": [
    {
     "ename": "ValueError",
     "evalue": "invalid literal for int() with base 10: '2 19 we accept the ieeextreme challenge 19 qbspbz jhlzhy olsk aol vmmpjl vm wvuapmle theptbz wypvy av iljvtpun kpjahavy'",
     "output_type": "error",
     "traceback": [
      "\u001b[0;31m---------------------------------------------------------------------------\u001b[0m",
      "\u001b[0;31mValueError\u001b[0m                                Traceback (most recent call last)",
      "\u001b[1;32m/home/unknown/important/competitive_programming/i3e/programmer_poem/test.ipynb Cell 1\u001b[0m line \u001b[0;36m1\n\u001b[0;32m----> <a href='vscode-notebook-cell:/home/unknown/important/competitive_programming/i3e/programmer_poem/test.ipynb#W0sZmlsZQ%3D%3D?line=0'>1</a>\u001b[0m \u001b[39mfor\u001b[39;00m i \u001b[39min\u001b[39;00m \u001b[39mrange\u001b[39m(\u001b[39mint\u001b[39;49m(\u001b[39minput\u001b[39;49m())):\n\u001b[1;32m      <a href='vscode-notebook-cell:/home/unknown/important/competitive_programming/i3e/programmer_poem/test.ipynb#W0sZmlsZQ%3D%3D?line=1'>2</a>\u001b[0m     d \u001b[39m=\u001b[39m {\u001b[39m\"\u001b[39m\u001b[39mG\u001b[39m\u001b[39m\"\u001b[39m:\u001b[39m0\u001b[39m, \u001b[39m\"\u001b[39m\u001b[39mA\u001b[39m\u001b[39m\"\u001b[39m:\u001b[39m0\u001b[39m,\u001b[39m\"\u001b[39m\u001b[39mB\u001b[39m\u001b[39m\"\u001b[39m:\u001b[39m0\u001b[39m, \u001b[39m\"\u001b[39m\u001b[39mC\u001b[39m\u001b[39m\"\u001b[39m:\u001b[39m0\u001b[39m,\u001b[39m\"\u001b[39m\u001b[39mD\u001b[39m\u001b[39m\"\u001b[39m:\u001b[39m0\u001b[39m, \u001b[39m\"\u001b[39m\u001b[39mE\u001b[39m\u001b[39m\"\u001b[39m:\u001b[39m0\u001b[39m, \u001b[39m\"\u001b[39m\u001b[39mF\u001b[39m\u001b[39m\"\u001b[39m:\u001b[39m0\u001b[39m}\n\u001b[1;32m      <a href='vscode-notebook-cell:/home/unknown/important/competitive_programming/i3e/programmer_poem/test.ipynb#W0sZmlsZQ%3D%3D?line=2'>3</a>\u001b[0m     s \u001b[39m=\u001b[39m \u001b[39minput\u001b[39m()\u001b[39m.\u001b[39mupper()\n",
      "\u001b[0;31mValueError\u001b[0m: invalid literal for int() with base 10: '2 19 we accept the ieeextreme challenge 19 qbspbz jhlzhy olsk aol vmmpjl vm wvuapmle theptbz wypvy av iljvtpun kpjahavy'"
     ]
    }
   ],
   "source": [
    "\n",
    "for i in range(int(input())):\n",
    "    d = {\"G\":0, \"A\":0,\"B\":0, \"C\":0,\"D\":0, \"E\":0, \"F\":0}\n",
    "    s = input().upper()\n",
    "    # print(\"--------\", s,\"-------------\")\n",
    "    for j in s:\n",
    "        # print(j)\n",
    "        if j in ['A', 'B', \"C\", \"D\", \"E\", \"F\", \"G\"]:\n",
    "            d[j]+=1\n",
    "    m = 0\n",
    "    c = \"\"\n",
    "    for j in d:\n",
    "        if d[j] > m:\n",
    "            m = d[j]\n",
    "            c = j\n",
    "    print(j)\n",
    "\n",
    "\n",
    "\n",
    "\n",
    "\n",
    "\n",
    "\n",
    "\n",
    "\n",
    "\n",
    "\n",
    "# # GKWsDJMfLKEiot\n"
   ]
  }
 ],
 "metadata": {
  "kernelspec": {
   "display_name": "Python 3",
   "language": "python",
   "name": "python3"
  },
  "language_info": {
   "codemirror_mode": {
    "name": "ipython",
    "version": 3
   },
   "file_extension": ".py",
   "mimetype": "text/x-python",
   "name": "python",
   "nbconvert_exporter": "python",
   "pygments_lexer": "ipython3",
   "version": "3.11.2"
  },
  "orig_nbformat": 4
 },
 "nbformat": 4,
 "nbformat_minor": 2
}
