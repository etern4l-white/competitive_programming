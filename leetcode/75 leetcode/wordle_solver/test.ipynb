{
 "cells": [
  {
   "cell_type": "code",
   "execution_count": 1,
   "metadata": {},
   "outputs": [],
   "source": [
    "import threading\n",
    "import csv\n",
    "import json\n",
    "import requests as req\n",
    "import re\n",
    "from selenium import webdriver\n",
    "from selenium.webdriver.firefox.options import Options\n",
    "from selenium.webdriver.common.by import By\n",
    "from selenium.webdriver.common.keys import Keys\n",
    "import time\n",
    "from urllib import parse\n",
    "from selenium.common.exceptions import *\n",
    "from selenium.webdriver.support.wait import WebDriverWait\n",
    "from selenium.webdriver.support import expected_conditions as EC\n",
    "import concurrent.futures\n",
    "from bs4 import BeautifulSoup as BS\n",
    "from selenium.webdriver.chrome.service import Service\n",
    "import os\n",
    "\n"
   ]
  },
  {
   "cell_type": "code",
   "execution_count": 2,
   "metadata": {},
   "outputs": [],
   "source": [
    "options = webdriver.ChromeOptions()\n",
    "options.add_experimental_option(\"debuggerAddress\", \"127.0.0.1:6969\")\n",
    "d = webdriver.Chrome(options)"
   ]
  },
  {
   "cell_type": "code",
   "execution_count": 3,
   "metadata": {},
   "outputs": [],
   "source": [
    "d.get(\"https://www.nytimes.com/games/wordle/index.html/\")"
   ]
  },
  {
   "cell_type": "code",
   "execution_count": 5,
   "metadata": {},
   "outputs": [],
   "source": [
    "d.find_element(By.XPATH, '//*[@data-testid=\"Play\"]').click()"
   ]
  },
  {
   "cell_type": "code",
   "execution_count": null,
   "metadata": {},
   "outputs": [],
   "source": [
    "import random\n",
    "with open(\"words.txt\", \"r\") as f:\n",
    "    other = f.read().split('\\n')\n",
    "def get_positioned(all_words, poistioned):\n",
    "    res = []\n",
    "    for word in all_words:\n",
    "        add = True\n",
    "        for i in poistioned:\n",
    "            if word[i[0]] != i[1]:\n",
    "                add = False\n",
    "                break\n",
    "        if add: res.append(word)\n",
    "    return res\n",
    "\n",
    "def get_existing(words, existing):\n",
    "    res = []\n",
    "    for word in words:\n",
    "        add = True\n",
    "        for i in existing:\n",
    "            if i not in word:\n",
    "                add = False\n",
    "                break\n",
    "        if add:res.append(word)\n",
    "    return res\n",
    "\n",
    "def remove_non_existing(words, no_exist):\n",
    "    res = []\n",
    "    for word in words:\n",
    "        add = True\n",
    "        for i in no_exist:\n",
    "            if i in word:\n",
    "                add = False\n",
    "                break\n",
    "        if add:res.append(word)\n",
    "    return res\n",
    "\n",
    "def remove_unpositioned(words, unpositioned):\n",
    "    res = []\n",
    "    for word in words:\n",
    "        add = True\n",
    "        for i in unpositioned:\n",
    "            if word[i[0]] == i[1]:\n",
    "                add = False\n",
    "                break\n",
    "        if add: res.append(word)\n",
    "    return res\n",
    "\n",
    "def get_remained(all_words, positioned, existing, non_existing, unpositioned):\n",
    "    all_words = get_positioned(all_words, positioned)\n",
    "    all_words = get_existing(all_words, existing)\n",
    "    all_words = remove_non_existing(all_words, non_existing)\n",
    "    all_words = remove_unpositioned(all_words, unpositioned)\n",
    "    return all_words\n",
    "    \n",
    "\n",
    "\n",
    "positioned = [\n",
    "    [1,'r']\n",
    "]\n",
    "existing = ['a', 'r', 'o']\n",
    "non_existing = ['m','e','l','s', 'q','u','s','h','w','e', 'i','f','g']\n",
    "unpositioned = [\n",
    "    [2,'a'],\n",
    "    [2, 'r'],\n",
    "    [1,'o'],\n",
    "    [3,'r'],\n",
    "    [4,'a'],\n",
    "    [0, 'o'],\n",
    "    [3,'a']\n",
    "]\n",
    "ans = get_remained(other, positioned, existing, non_existing, unpositioned)\n",
    "# print(get_remained(other, [], ['m','l'], ['e','a','s', 'c', 'u', 'p']))\n",
    "print([i for i in ans])\n",
    "print(random.choice(ans))\n"
   ]
  },
  {
   "cell_type": "code",
   "execution_count": 13,
   "metadata": {},
   "outputs": [],
   "source": [
    "def enter_word(driver, word):\n",
    "    for char in word:\n",
    "        driver.find_element(By.XPATH, f'//button[@data-key=\"{char}\"]').click()\n",
    "    driver.find_element(By.XPATH, f'//button[@aria-label=\"enter\"]').click()\n",
    "    # positioned, existing, non_existing, unpositioned\n",
    "    positioned = []\n",
    "    rows = driver.find_elements(By.XPATH, \"\")\n",
    "    existing = [i.text for i in driver.find_elements(By.XPATH, '//*div[@data-state=\"absent\"]')]\n",
    "    non_existing = [i.text for i in driver.find_elements(By.XPATH, '//*div[@data-state=\"absent\"]')]\n",
    "    unpositioned = [i.text for i in driver.find_elements(By.XPATH, '//*div[@data-state=\"absent\"]')]\n",
    "    \n",
    "    \n",
    "enter_word(d, \"meals\")"
   ]
  },
  {
   "cell_type": "code",
   "execution_count": 6,
   "metadata": {},
   "outputs": [],
   "source": [
    "words = [i.text for i in (d.find_element(By.TAG_NAME, \"table\").find_elements(By.TAG_NAME, \"td\"))]"
   ]
  },
  {
   "cell_type": "code",
   "execution_count": 10,
   "metadata": {},
   "outputs": [],
   "source": [
    "words = [i.text for i in d.find_elements(By.XPATH, \"//div[@class='entry-content mvt-content']/ul//li\")]"
   ]
  },
  {
   "cell_type": "code",
   "execution_count": 11,
   "metadata": {},
   "outputs": [
    {
     "name": "stdout",
     "output_type": "stream",
     "text": [
      "3745\n"
     ]
    }
   ],
   "source": [
    "with open(\"words.txt\", \"r\") as f:\n",
    "    other = f.read().split('\\n')\n",
    "other.extend(words)\n",
    "other = list(set(other))\n",
    "print(len(other))"
   ]
  },
  {
   "cell_type": "code",
   "execution_count": 13,
   "metadata": {},
   "outputs": [],
   "source": [
    "other = sorted(other)"
   ]
  },
  {
   "cell_type": "code",
   "execution_count": 102,
   "metadata": {},
   "outputs": [],
   "source": [
    "with open('words.txt', \"w\") as f:\n",
    "    f.write('\\n'.join(other).lower())"
   ]
  },
  {
   "cell_type": "code",
   "execution_count": 87,
   "metadata": {},
   "outputs": [
    {
     "name": "stdout",
     "output_type": "stream",
     "text": [
      "[]\n"
     ]
    }
   ],
   "source": [
    "with open('words.txt', \"r\") as f:\n",
    "    w = f.read().split('\\n')\n",
    "print([i for i in w if i[:3] == 'man'])"
   ]
  },
  {
   "cell_type": "code",
   "execution_count": 121,
   "metadata": {},
   "outputs": [
    {
     "name": "stdout",
     "output_type": "stream",
     "text": [
      "['arbor', 'ardor']\n",
      "arbor\n"
     ]
    }
   ],
   "source": [
    "import random\n",
    "\n",
    "def get_positioned(all_words, poistioned):\n",
    "    res = []\n",
    "    for word in all_words:\n",
    "        add = True\n",
    "        for i in poistioned:\n",
    "            if word[i[0]] != i[1]:\n",
    "                add = False\n",
    "                break\n",
    "        if add: res.append(word)\n",
    "    return res\n",
    "\n",
    "def get_existing(words, existing):\n",
    "    res = []\n",
    "    for word in words:\n",
    "        add = True\n",
    "        for i in existing:\n",
    "            if i not in word:\n",
    "                add = False\n",
    "                break\n",
    "        if add:res.append(word)\n",
    "    return res\n",
    "\n",
    "def remove_non_existing(words, no_exist):\n",
    "    res = []\n",
    "    for word in words:\n",
    "        add = True\n",
    "        for i in no_exist:\n",
    "            if i in word:\n",
    "                add = False\n",
    "                break\n",
    "        if add:res.append(word)\n",
    "    return res\n",
    "\n",
    "def remove_unpositioned(words, unpositioned):\n",
    "    res = []\n",
    "    for word in words:\n",
    "        add = True\n",
    "        for i in unpositioned:\n",
    "            if word[i[0]] == i[1]:\n",
    "                add = False\n",
    "                break\n",
    "        if add: res.append(word)\n",
    "    return res\n",
    "\n",
    "def get_remained(all_words, positioned, existing, non_existing, unpositioned):\n",
    "    all_words = get_positioned(all_words, positioned)\n",
    "    all_words = get_existing(all_words, existing)\n",
    "    all_words = remove_non_existing(all_words, non_existing)\n",
    "    all_words = remove_unpositioned(all_words, unpositioned)\n",
    "    return all_words\n",
    "    \n",
    "\n",
    "\n",
    "positioned = [\n",
    "    [1,'r']\n",
    "]\n",
    "existing = ['a', 'r', 'o']\n",
    "non_existing = ['m','e','l','s', 'q','u','s','h','w','e', 'i','f','g']\n",
    "unpositioned = [\n",
    "    [2,'a'],\n",
    "    [2, 'r'],\n",
    "    [1,'o'],\n",
    "    [3,'r'],\n",
    "    [4,'a'],\n",
    "    [0, 'o'],\n",
    "    [3,'a']\n",
    "]\n",
    "ans = get_remained(other, positioned, existing, non_existing, unpositioned)\n",
    "# print(get_remained(other, [], ['m','l'], ['e','a','s', 'c', 'u', 'p']))\n",
    "print([i for i in ans])\n",
    "print(random.choice(ans))\n"
   ]
  },
  {
   "cell_type": "code",
   "execution_count": null,
   "metadata": {},
   "outputs": [],
   "source": []
  }
 ],
 "metadata": {
  "kernelspec": {
   "display_name": "Python 3",
   "language": "python",
   "name": "python3"
  },
  "language_info": {
   "codemirror_mode": {
    "name": "ipython",
    "version": 3
   },
   "file_extension": ".py",
   "mimetype": "text/x-python",
   "name": "python",
   "nbconvert_exporter": "python",
   "pygments_lexer": "ipython3",
   "version": "3.11.2"
  },
  "orig_nbformat": 4
 },
 "nbformat": 4,
 "nbformat_minor": 2
}
