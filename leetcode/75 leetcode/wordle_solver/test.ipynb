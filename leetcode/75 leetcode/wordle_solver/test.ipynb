{
 "cells": [
  {
   "cell_type": "code",
   "execution_count": 99,
   "metadata": {},
   "outputs": [],
   "source": [
    "import requests, json\n",
    "import threading\n",
    "\n",
    "\n",
    "def get_letter_words(letter, original):\n",
    "    page_number = 1\n",
    "    result = []\n",
    "    while True:\n",
    "        try:\n",
    "            headers = {\n",
    "                'User-Agent': 'Mozilla/5.0 (X11; Linux x86_64; rv:102.0) Gecko/20100101 Firefox/102.0',\n",
    "                'Accept': '*/*',\n",
    "                'Accept-Language': 'en-US,en;q=0.5',\n",
    "                'X-Requested-With': 'XMLHttpRequest',\n",
    "                'DNT': '1',\n",
    "                'Connection': 'keep-alive',\n",
    "                'Referer': 'https://www.dictionary.com/e/word-finder/5-letter-words/',\n",
    "                'Sec-Fetch-Dest': 'empty',\n",
    "                'Sec-Fetch-Mode': 'cors',\n",
    "                'Sec-Fetch-Site': 'same-origin',\n",
    "            }\n",
    "\n",
    "            params = {\n",
    "                'page': f'{page_number}',\n",
    "                'wordLength': '5',\n",
    "                'letter': f'{letter.upper()}',\n",
    "                'action': 'get_wf_widget_page',\n",
    "                'pageType': '4',\n",
    "                'nonce': 'eb40d9b58e',\n",
    "            }\n",
    "            response = requests.get('https://www.dictionary.com/e/crb-ajax/cached.php', params=params, headers=headers)\n",
    "            result.extend(json.loads(response.text)['data']['words'])\n",
    "            page_number+=1\n",
    "        except:\n",
    "            break\n",
    "    original.extend(result)\n",
    "\n",
    "def get_all_5_letter_words():\n",
    "    alphabet = 'abcdefghijklmnopqrstuvwxyz'\n",
    "    threads = []\n",
    "    all_words = []\n",
    "    for i in alphabet:\n",
    "        t = threading.Thread(target=get_letter_words, args=((i, all_words)))\n",
    "        threads.append(t)\n",
    "    for t in threads:\n",
    "        t.start()\n",
    "    for t in threads:\n",
    "        t.join()\n",
    "        \n",
    "    return all_words\n",
    "    \n",
    "other = get_all_5_letter_words()\n"
   ]
  },
  {
   "cell_type": "code",
   "execution_count": 100,
   "metadata": {},
   "outputs": [
    {
     "name": "stdout",
     "output_type": "stream",
     "text": [
      "9074\n"
     ]
    }
   ],
   "source": [
    "print(len(other))"
   ]
  },
  {
   "cell_type": "code",
   "execution_count": 1,
   "metadata": {},
   "outputs": [],
   "source": [
    "import threading\n",
    "import csv\n",
    "import json\n",
    "import requests as req\n",
    "import re\n",
    "from selenium import webdriver\n",
    "from selenium.webdriver.firefox.options import Options\n",
    "from selenium.webdriver.common.by import By\n",
    "from selenium.webdriver.common.keys import Keys\n",
    "import time\n",
    "from urllib import parse\n",
    "from selenium.common.exceptions import *\n",
    "from selenium.webdriver.support.wait import WebDriverWait\n",
    "from selenium.webdriver.support import expected_conditions as EC\n",
    "import concurrent.futures\n",
    "from bs4 import BeautifulSoup as BS\n",
    "from selenium.webdriver.chrome.service import Service\n",
    "import os\n",
    "\n"
   ]
  },
  {
   "cell_type": "code",
   "execution_count": 2,
   "metadata": {},
   "outputs": [],
   "source": [
    "options = webdriver.ChromeOptions()\n",
    "options.add_experimental_option(\"debuggerAddress\", \"127.0.0.1:6969\")\n",
    "d = webdriver.Chrome(options)"
   ]
  },
  {
   "cell_type": "code",
   "execution_count": 9,
   "metadata": {},
   "outputs": [],
   "source": [
    "d.get(\"https://eslforums.com/5-letter-words/\")"
   ]
  },
  {
   "cell_type": "code",
   "execution_count": 6,
   "metadata": {},
   "outputs": [],
   "source": [
    "words = [i.text for i in (d.find_element(By.TAG_NAME, \"table\").find_elements(By.TAG_NAME, \"td\"))]"
   ]
  },
  {
   "cell_type": "code",
   "execution_count": 10,
   "metadata": {},
   "outputs": [],
   "source": [
    "words = [i.text for i in d.find_elements(By.XPATH, \"//div[@class='entry-content mvt-content']/ul//li\")]"
   ]
  },
  {
   "cell_type": "code",
   "execution_count": 11,
   "metadata": {},
   "outputs": [
    {
     "name": "stdout",
     "output_type": "stream",
     "text": [
      "3745\n"
     ]
    }
   ],
   "source": [
    "with open(\"words.txt\", \"r\") as f:\n",
    "    other = f.read().split('\\n')\n",
    "other.extend(words)\n",
    "other = list(set(other))\n",
    "print(len(other))"
   ]
  },
  {
   "cell_type": "code",
   "execution_count": 13,
   "metadata": {},
   "outputs": [],
   "source": [
    "other = sorted(other)"
   ]
  },
  {
   "cell_type": "code",
   "execution_count": 102,
   "metadata": {},
   "outputs": [],
   "source": [
    "with open('words.txt', \"w\") as f:\n",
    "    f.write('\\n'.join(other).lower())"
   ]
  },
  {
   "cell_type": "code",
   "execution_count": 87,
   "metadata": {},
   "outputs": [
    {
     "name": "stdout",
     "output_type": "stream",
     "text": [
      "[]\n"
     ]
    }
   ],
   "source": [
    "with open('words.txt', \"r\") as f:\n",
    "    w = f.read().split('\\n')\n",
    "print([i for i in w if i[:3] == 'man'])"
   ]
  },
  {
   "cell_type": "code",
   "execution_count": 101,
   "metadata": {},
   "outputs": [
    {
     "name": "stdout",
     "output_type": "stream",
     "text": [
      "['manas', 'maned', 'manga', 'mango', 'mania', 'manit', 'manna', 'manos', 'manta']\n"
     ]
    }
   ],
   "source": [
    "# with open(\"words.txt\", \"r\") as f:\n",
    "#     other = f.read().split('\\n')\n",
    "def get_remained(words, in_position, in_word, not_in_word, not_in_position):\n",
    "    res = []\n",
    "    # i in positi= [i, 'a']\n",
    "    for word in words:\n",
    "        add = True\n",
    "        for i in in_position:\n",
    "            if word[i[0]] != i[1]:\n",
    "                add = False\n",
    "                break\n",
    "        if add: res.append(word)\n",
    "    if len(res) == 0:\n",
    "        print(\"nah\")\n",
    "        res = words\n",
    "    # print(res)\n",
    "    fin = []\n",
    "    for word in res:\n",
    "        add = True\n",
    "        for i in in_word:\n",
    "            if i not in word:\n",
    "                add = False\n",
    "                break\n",
    "        if add:fin.append(word)\n",
    "    # print(fin)\n",
    "    fin2 = []\n",
    "    for word in fin:\n",
    "        add = True\n",
    "        for i in not_in_word:\n",
    "            if i in word:\n",
    "                add = False\n",
    "                break\n",
    "        if add:fin2.append(word)\n",
    "    fin2 = fin\n",
    "    for word in fin2:\n",
    "        add = False\n",
    "        for i in not_in_position:\n",
    "            if word[i[0]] != i[1]:\n",
    "                add = True\n",
    "                break\n",
    "        if add: fin2.remove(word)\n",
    "    \n",
    "    return fin2\n",
    "in_position = [\n",
    "    [0,'m'],\n",
    "    [1,'a'],\n",
    "    [2,'n']\n",
    "]\n",
    "\n",
    "in_word = ['a']\n",
    "not_in_word = ['e','l','s', 't','c','h','g']\n",
    "not_in_position = [\n",
    "    [2,'a']\n",
    "    \n",
    "]\n",
    "\n",
    "print(get_remained(other, in_position, in_word, not_in_word, not_in_position))\n",
    "# print(get_remained(other, [], ['m','l'], ['e','a','s', 'c', 'u', 'p']))\n"
   ]
  }
 ],
 "metadata": {
  "kernelspec": {
   "display_name": "Python 3",
   "language": "python",
   "name": "python3"
  },
  "language_info": {
   "codemirror_mode": {
    "name": "ipython",
    "version": 3
   },
   "file_extension": ".py",
   "mimetype": "text/x-python",
   "name": "python",
   "nbconvert_exporter": "python",
   "pygments_lexer": "ipython3",
   "version": "3.11.2"
  },
  "orig_nbformat": 4
 },
 "nbformat": 4,
 "nbformat_minor": 2
}
