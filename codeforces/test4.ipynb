{
 "cells": [
  {
   "cell_type": "code",
   "execution_count": 2,
   "metadata": {},
   "outputs": [
    {
     "ename": "NameError",
     "evalue": "name 'h' is not defined",
     "output_type": "error",
     "traceback": [
      "\u001b[0;31m---------------------------------------------------------------------------\u001b[0m",
      "\u001b[0;31mNameError\u001b[0m                                 Traceback (most recent call last)",
      "\u001b[1;32m/home/unknown/important/competitive_programming/codeforces/test4.ipynb Cell 1\u001b[0m line \u001b[0;36m1\n\u001b[1;32m     <a href='vscode-notebook-cell:/home/unknown/important/competitive_programming/codeforces/test4.ipynb#W0sZmlsZQ%3D%3D?line=15'>16</a>\u001b[0m         \u001b[39mprint\u001b[39m(\u001b[39m'\u001b[39m\u001b[39mInteger\u001b[39m\u001b[39m'\u001b[39m)\n\u001b[1;32m     <a href='vscode-notebook-cell:/home/unknown/important/competitive_programming/codeforces/test4.ipynb#W0sZmlsZQ%3D%3D?line=16'>17</a>\u001b[0m \u001b[39melse\u001b[39;00m:\n\u001b[0;32m---> <a href='vscode-notebook-cell:/home/unknown/important/competitive_programming/codeforces/test4.ipynb#W0sZmlsZQ%3D%3D?line=17'>18</a>\u001b[0m     st \u001b[39m=\u001b[39m \u001b[39mf\u001b[39m\u001b[39m\"\u001b[39m\u001b[39m{\u001b[39;00mh\u001b[39m}\u001b[39;00m\u001b[39m\"\u001b[39m\u001b[39m.\u001b[39mreplace(\u001b[39m\"\u001b[39m\u001b[39m'\u001b[39m\u001b[39m\"\u001b[39m, \u001b[39m'\u001b[39m\u001b[39m'\u001b[39m)\n\u001b[1;32m     <a href='vscode-notebook-cell:/home/unknown/important/competitive_programming/codeforces/test4.ipynb#W0sZmlsZQ%3D%3D?line=18'>19</a>\u001b[0m     \u001b[39mtry\u001b[39;00m:\n\u001b[1;32m     <a href='vscode-notebook-cell:/home/unknown/important/competitive_programming/codeforces/test4.ipynb#W0sZmlsZQ%3D%3D?line=19'>20</a>\u001b[0m         \u001b[39meval\u001b[39m(\u001b[39mf\u001b[39m\u001b[39m\"\u001b[39m\u001b[39mprint(type(\u001b[39m\u001b[39m{\u001b[39;00mhi\u001b[39m}\u001b[39;00m\u001b[39m))\u001b[39m\u001b[39m\"\u001b[39m)\n",
      "\u001b[0;31mNameError\u001b[0m: name 'h' is not defined"
     ]
    }
   ],
   "source": [
    "from string import printable\n",
    "import re\n",
    "# hi = input()\n",
    "# if len(hi) == 1:\n",
    "#     if hi[0] in printable and not hi[0] in '1234567890':\n",
    "#         print('Char')\n",
    "#     else:\n",
    "#         print(\"Integer\")\n",
    "# else:\n",
    "# print(re.search(r\"[\\w]+\", \"asd1234.\")[0])\n",
    "hi = input()\n",
    "if len(hi) == 1:\n",
    "    if hi[0] in printable and not hi[0] in '1234567890':\n",
    "        print('Char')\n",
    "    else:\n",
    "        print('Integer')\n",
    "else:\n",
    "    st = f\"{hi}\".replace(\"'\", '')\n",
    "    try:\n",
    "        eval(f\"print(type({hi}))\")\n",
    "    except:\n",
    "        print(\"String\")\n",
    "\n"
   ]
  },
  {
   "cell_type": "code",
   "execution_count": 31,
   "metadata": {},
   "outputs": [
    {
     "name": "stdout",
     "output_type": "stream",
     "text": [
      "Float\n"
     ]
    }
   ],
   "source": [
    "from string import ascii_letters, digits\n",
    "hi = input()\n",
    "if len(hi) == 1:\n",
    "    if hi[0] in printable and not hi[0] in '1234567890':\n",
    "        print('Char')\n",
    "    else:\n",
    "        print('Integer')\n",
    "else:\n",
    "    iss = False\n",
    "    iff = False\n",
    "    for i in hi:\n",
    "        if i in ascii_letters:\n",
    "            print(\"String\")\n",
    "            iss = True\n",
    "            break\n",
    "        elif i == '.':\n",
    "            iff = True\n",
    "    if not iss: print(\"Float\" if iff else \"Integer\")\n",
    "        "
   ]
  },
  {
   "cell_type": "code",
   "execution_count": 34,
   "metadata": {},
   "outputs": [
    {
     "name": "stdout",
     "output_type": "stream",
     "text": [
      "2.0\n"
     ]
    }
   ],
   "source": [
    "from numpy.core import divide\n",
    "# print(divide(4, 2))"
   ]
  },
  {
   "cell_type": "code",
   "execution_count": 8,
   "metadata": {},
   "outputs": [
    {
     "ename": "SyntaxError",
     "evalue": "incomplete input (3431901428.py, line 14)",
     "output_type": "error",
     "traceback": [
      "\u001b[0;36m  Cell \u001b[0;32mIn[8], line 14\u001b[0;36m\u001b[0m\n\u001b[0;31m    \u001b[0m\n\u001b[0m    ^\u001b[0m\n\u001b[0;31mSyntaxError\u001b[0m\u001b[0;31m:\u001b[0m incomplete input\n"
     ]
    }
   ],
   "source": [
    "from string import printable\n",
    "\n",
    "hi = input()\n",
    "if len(hi) == 1:\n",
    "    if hi[0] in printable and not hi[0] in '1234567890':\n",
    "        print('Char')\n",
    "    else:\n",
    "        print('Integer')\n",
    "else:\n",
    "    iss = False\n",
    "    iff = False\n",
    "    for i in hi:\n",
    "        if i in printable and not i in '1234567890':\n",
    "            print('String')\n",
    "            break\n",
    "        "
   ]
  },
  {
   "cell_type": "code",
   "execution_count": 21,
   "metadata": {},
   "outputs": [
    {
     "name": "stdout",
     "output_type": "stream",
     "text": [
      "No\n"
     ]
    }
   ],
   "source": [
    "n = int(input())\n",
    "ooo = n\n",
    "fs = []\n",
    "while n>1:\n",
    "    for i in range(2, n+1):\n",
    "        if n%i==0:\n",
    "            fs.append(i)\n",
    "            n//=i\n",
    "            break\n",
    "print(\"Yes\" if sum(fs) == ooo-2 else \"No\")"
   ]
  },
  {
   "cell_type": "code",
   "execution_count": null,
   "metadata": {},
   "outputs": [],
   "source": [
    "import math\n",
    "import numpy as np\n",
    "print(math.)"
   ]
  }
 ],
 "metadata": {
  "kernelspec": {
   "display_name": "Python 3",
   "language": "python",
   "name": "python3"
  },
  "language_info": {
   "codemirror_mode": {
    "name": "ipython",
    "version": 3
   },
   "file_extension": ".py",
   "mimetype": "text/x-python",
   "name": "python",
   "nbconvert_exporter": "python",
   "pygments_lexer": "ipython3",
   "version": "3.11.2"
  },
  "orig_nbformat": 4
 },
 "nbformat": 4,
 "nbformat_minor": 2
}
