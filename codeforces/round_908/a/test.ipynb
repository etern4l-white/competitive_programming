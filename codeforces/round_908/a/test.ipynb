{
 "cells": [
  {
   "cell_type": "code",
   "execution_count": 3,
   "metadata": {},
   "outputs": [
    {
     "name": "stdout",
     "output_type": "stream",
     "text": [
      "[50, 63]\n",
      "[1, 1, 1, 1, 1, 1, 1, 1, 1, 1, 1, 1, 1, 1, 1, 1, 1, 1]\n"
     ]
    }
   ],
   "source": [
    "hi = [int(i) for i in '93 84 50 21 88 52 16 50 63 1 30 85 29 67 63 58 37 69'.split()]\n",
    "d = {}\n",
    "similar = []\n",
    "for i in range(len(hi)):\n",
    "    if hi[i] not in d:\n",
    "        d[hi[i]] = [1, [i]]\n",
    "    else:\n",
    "        if d[hi[i]][0] == 1:\n",
    "            similar.append(hi[i])\n",
    "        d[hi[i]][0]+=1\n",
    "        d[hi[i]][-1] = [i]\n",
    "print(similar)\n",
    "b = [1 for i in hi]\n",
    "for sim in similar:\n",
    "    "
   ]
  },
  {
   "cell_type": "code",
   "execution_count": 10,
   "metadata": {},
   "outputs": [
    {
     "name": "stdout",
     "output_type": "stream",
     "text": [
      "[2, 3, 4, 3, 3]\n",
      "[2, 3, 4, 3, 3]\n",
      "No\n"
     ]
    }
   ],
   "source": [
    "def circulate(arr):\n",
    "    hi = arr[0]\n",
    "    arr.pop(0)\n",
    "    arr.append(hi)\n",
    "\n",
    "n, k = [int(i) for i in input().split()]\n",
    "b = [int(i) for i in input().split()]\n",
    "while k>0:\n",
    "    yes = True\n",
    "    f = False\n",
    "    for i, x in enumerate(b):\n",
    "        if x == i+1:\n",
    "            for j in range(x):\n",
    "                circulate(b)\n",
    "            f = True\n",
    "            break\n",
    "    if not f:\n",
    "        yes = False\n",
    "    print(b)\n",
    "    if not yes:\n",
    "        print(\"No\")\n",
    "        break"
   ]
  }
 ],
 "metadata": {
  "kernelspec": {
   "display_name": "Python 3",
   "language": "python",
   "name": "python3"
  },
  "language_info": {
   "codemirror_mode": {
    "name": "ipython",
    "version": 3
   },
   "file_extension": ".py",
   "mimetype": "text/x-python",
   "name": "python",
   "nbconvert_exporter": "python",
   "pygments_lexer": "ipython3",
   "version": "3.11.2"
  },
  "orig_nbformat": 4
 },
 "nbformat": 4,
 "nbformat_minor": 2
}
