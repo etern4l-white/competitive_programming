{
 "cells": [
  {
   "cell_type": "code",
   "execution_count": 34,
   "metadata": {},
   "outputs": [
    {
     "name": "stdout",
     "output_type": "stream",
     "text": [
      "976429503\n"
     ]
    }
   ],
   "source": [
    "import math\n",
    "\n",
    "# print(math.factorial())\n",
    "def hi(n):\n",
    "    # o = 63\n",
    "    # s = 0\n",
    "    # for i in range(n+1, 0, -1):\n",
    "    #     print(i)\n",
    "    #     s+=o**i\n",
    "    #     o-=1\n",
    "    # print()\n",
    "    o = 63\n",
    "    s = o**n\n",
    "    for i in range(1, n):\n",
    "        s-=o**i\n",
    "    print(s)\n",
    "        \n",
    "# hi(5)\n",
    "# def hey(n):\n",
    "    "
   ]
  },
  {
   "cell_type": "code",
   "execution_count": 39,
   "metadata": {},
   "outputs": [
    {
     "ename": "AttributeError",
     "evalue": "module 'collections' has no attribute 'sieve'",
     "output_type": "error",
     "traceback": [
      "\u001b[0;31m---------------------------------------------------------------------------\u001b[0m",
      "\u001b[0;31mAttributeError\u001b[0m                            Traceback (most recent call last)",
      "\u001b[1;32m/home/unknown/important/competitive_programming/codeforces/test.ipynb Cell 2\u001b[0m line \u001b[0;36m2\n\u001b[1;32m     <a href='vscode-notebook-cell:/home/unknown/important/competitive_programming/codeforces/test.ipynb#W1sZmlsZQ%3D%3D?line=17'>18</a>\u001b[0m     \u001b[39mif\u001b[39;00m n \u001b[39m>\u001b[39m \u001b[39m1\u001b[39m:\n\u001b[1;32m     <a href='vscode-notebook-cell:/home/unknown/important/competitive_programming/codeforces/test.ipynb#W1sZmlsZQ%3D%3D?line=18'>19</a>\u001b[0m         \u001b[39myield\u001b[39;00m n\n\u001b[0;32m---> <a href='vscode-notebook-cell:/home/unknown/important/competitive_programming/codeforces/test.ipynb#W1sZmlsZQ%3D%3D?line=21'>22</a>\u001b[0m \u001b[39mprint\u001b[39m([i \u001b[39mfor\u001b[39;49;00m i \u001b[39min\u001b[39;49;00m factor(\u001b[39m6\u001b[39;49m)])\n",
      "\u001b[1;32m/home/unknown/important/competitive_programming/codeforces/test.ipynb Cell 2\u001b[0m line \u001b[0;36m2\n\u001b[1;32m     <a href='vscode-notebook-cell:/home/unknown/important/competitive_programming/codeforces/test.ipynb#W1sZmlsZQ%3D%3D?line=17'>18</a>\u001b[0m     \u001b[39mif\u001b[39;00m n \u001b[39m>\u001b[39m \u001b[39m1\u001b[39m:\n\u001b[1;32m     <a href='vscode-notebook-cell:/home/unknown/important/competitive_programming/codeforces/test.ipynb#W1sZmlsZQ%3D%3D?line=18'>19</a>\u001b[0m         \u001b[39myield\u001b[39;00m n\n\u001b[0;32m---> <a href='vscode-notebook-cell:/home/unknown/important/competitive_programming/codeforces/test.ipynb#W1sZmlsZQ%3D%3D?line=21'>22</a>\u001b[0m \u001b[39mprint\u001b[39m([i \u001b[39mfor\u001b[39;00m i \u001b[39min\u001b[39;00m factor(\u001b[39m6\u001b[39m)])\n",
      "\u001b[1;32m/home/unknown/important/competitive_programming/codeforces/test.ipynb Cell 2\u001b[0m line \u001b[0;36m9\n\u001b[1;32m      <a href='vscode-notebook-cell:/home/unknown/important/competitive_programming/codeforces/test.ipynb#W1sZmlsZQ%3D%3D?line=6'>7</a>\u001b[0m \u001b[39m\"\u001b[39m\u001b[39mPrime factors of n.\u001b[39m\u001b[39m\"\u001b[39m\n\u001b[1;32m      <a href='vscode-notebook-cell:/home/unknown/important/competitive_programming/codeforces/test.ipynb#W1sZmlsZQ%3D%3D?line=7'>8</a>\u001b[0m \u001b[39m# factor(99) --> 3 3 11\u001b[39;00m\n\u001b[0;32m----> <a href='vscode-notebook-cell:/home/unknown/important/competitive_programming/codeforces/test.ipynb#W1sZmlsZQ%3D%3D?line=8'>9</a>\u001b[0m \u001b[39mfor\u001b[39;00m prime \u001b[39min\u001b[39;00m collections\u001b[39m.\u001b[39;49msieve(math\u001b[39m.\u001b[39misqrt(n) \u001b[39m+\u001b[39m \u001b[39m1\u001b[39m):\n\u001b[1;32m     <a href='vscode-notebook-cell:/home/unknown/important/competitive_programming/codeforces/test.ipynb#W1sZmlsZQ%3D%3D?line=9'>10</a>\u001b[0m     \u001b[39mwhile\u001b[39;00m \u001b[39mTrue\u001b[39;00m:\n\u001b[1;32m     <a href='vscode-notebook-cell:/home/unknown/important/competitive_programming/codeforces/test.ipynb#W1sZmlsZQ%3D%3D?line=10'>11</a>\u001b[0m         quotient, remainder \u001b[39m=\u001b[39m \u001b[39mdivmod\u001b[39m(n, prime)\n",
      "\u001b[0;31mAttributeError\u001b[0m: module 'collections' has no attribute 'sieve'"
     ]
    }
   ],
   "source": [
    "# def factorize(n):\n",
    "#     init = 2\n",
    "#     if n < 2:\n",
    "#         return n\n",
    "#     l = []\n",
    "#     while n>0:\n",
    "        "
   ]
  },
  {
   "cell_type": "code",
   "execution_count": 65,
   "metadata": {},
   "outputs": [
    {
     "name": "stdout",
     "output_type": "stream",
     "text": [
      "True\n"
     ]
    },
    {
     "ename": "KeyboardInterrupt",
     "evalue": "",
     "output_type": "error",
     "traceback": [
      "\u001b[0;31m---------------------------------------------------------------------------\u001b[0m",
      "\u001b[0;31mKeyboardInterrupt\u001b[0m                         Traceback (most recent call last)",
      "\u001b[1;32m/home/unknown/important/competitive_programming/codeforces/test.ipynb Cell 3\u001b[0m line \u001b[0;36m1\n\u001b[1;32m     <a href='vscode-notebook-cell:/home/unknown/important/competitive_programming/codeforces/test.ipynb#W2sZmlsZQ%3D%3D?line=12'>13</a>\u001b[0m                 \u001b[39mbreak\u001b[39;00m\n\u001b[1;32m     <a href='vscode-notebook-cell:/home/unknown/important/competitive_programming/codeforces/test.ipynb#W2sZmlsZQ%3D%3D?line=14'>15</a>\u001b[0m     \u001b[39mprint\u001b[39m(fs)\n\u001b[0;32m---> <a href='vscode-notebook-cell:/home/unknown/important/competitive_programming/codeforces/test.ipynb#W2sZmlsZQ%3D%3D?line=15'>16</a>\u001b[0m factorize(\u001b[39m6\u001b[39;49m)\n",
      "\u001b[1;32m/home/unknown/important/competitive_programming/codeforces/test.ipynb Cell 3\u001b[0m line \u001b[0;36m8\n\u001b[1;32m      <a href='vscode-notebook-cell:/home/unknown/important/competitive_programming/codeforces/test.ipynb#W2sZmlsZQ%3D%3D?line=4'>5</a>\u001b[0m fs \u001b[39m=\u001b[39m []\n\u001b[1;32m      <a href='vscode-notebook-cell:/home/unknown/important/competitive_programming/codeforces/test.ipynb#W2sZmlsZQ%3D%3D?line=5'>6</a>\u001b[0m \u001b[39mwhile\u001b[39;00m n \u001b[39m>\u001b[39m \u001b[39m1\u001b[39m:\n\u001b[1;32m      <a href='vscode-notebook-cell:/home/unknown/important/competitive_programming/codeforces/test.ipynb#W2sZmlsZQ%3D%3D?line=6'>7</a>\u001b[0m     \u001b[39m# print(int(math.sqrt(n)))\u001b[39;00m\n\u001b[0;32m----> <a href='vscode-notebook-cell:/home/unknown/important/competitive_programming/codeforces/test.ipynb#W2sZmlsZQ%3D%3D?line=7'>8</a>\u001b[0m     \u001b[39mfor\u001b[39;00m i \u001b[39min\u001b[39;00m \u001b[39mrange\u001b[39m(\u001b[39m2\u001b[39m, \u001b[39mint\u001b[39m(math\u001b[39m.\u001b[39;49msqrt(n)\u001b[39m+\u001b[39m\u001b[39m1\u001b[39m)):\n\u001b[1;32m      <a href='vscode-notebook-cell:/home/unknown/important/competitive_programming/codeforces/test.ipynb#W2sZmlsZQ%3D%3D?line=8'>9</a>\u001b[0m         \u001b[39mprint\u001b[39m(\u001b[39mfloat\u001b[39m(n\u001b[39m/\u001b[39m\u001b[39m/\u001b[39mi) \u001b[39m==\u001b[39m n\u001b[39m/\u001b[39mi)\n\u001b[1;32m     <a href='vscode-notebook-cell:/home/unknown/important/competitive_programming/codeforces/test.ipynb#W2sZmlsZQ%3D%3D?line=9'>10</a>\u001b[0m         \u001b[39mif\u001b[39;00m \u001b[39mfloat\u001b[39m(n\u001b[39m/\u001b[39m\u001b[39m/\u001b[39mi) \u001b[39m==\u001b[39m n\u001b[39m/\u001b[39mi:\n",
      "\u001b[0;31mKeyboardInterrupt\u001b[0m: "
     ]
    }
   ],
   "source": [
    "import math\n",
    "def factorize(n):\n",
    "    if n == 5:\n",
    "        return 5\n",
    "    fs = []\n",
    "    while n > 1:\n",
    "        # print(int(math.sqrt(n)))\n",
    "        for i in range(2, int(math.sqrt(n)+1)):\n",
    "            print(float(n//i) == n/i)\n",
    "            if float(n//i) == n/i:\n",
    "                fs.append(i)\n",
    "                n//=i\n",
    "                break\n",
    "        \n",
    "    print(fs)\n",
    "factorize(6)"
   ]
  }
 ],
 "metadata": {
  "kernelspec": {
   "display_name": "Python 3",
   "language": "python",
   "name": "python3"
  },
  "language_info": {
   "codemirror_mode": {
    "name": "ipython",
    "version": 3
   },
   "file_extension": ".py",
   "mimetype": "text/x-python",
   "name": "python",
   "nbconvert_exporter": "python",
   "pygments_lexer": "ipython3",
   "version": "3.11.2"
  },
  "orig_nbformat": 4
 },
 "nbformat": 4,
 "nbformat_minor": 2
}
